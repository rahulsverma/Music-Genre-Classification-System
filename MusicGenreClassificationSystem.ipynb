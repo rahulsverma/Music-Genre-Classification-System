{
  "nbformat": 4,
  "cells": [
    {
      "cell_type": "markdown",
      "source": [
        "# **MUSIC GENRE CLASSIFICATION SYSTEM**"
      ],
      "metadata": {
        "id": "84s7fJTZmVuH"
      }
    },
    {
      "cell_type": "markdown",
      "source": [
        "### CONTENTS\n",
        "###### *1) Install and Import Libraries*\n",
        "###### *2) Preparing dataset*\n",
        "###### *3) Pairwise relationship between continuous variables*\n",
        "###### *4) Normalizing the feature data*\n",
        "###### *5) Principal Component Analysis on scaled data*\n",
        "###### *6) Further visualization of PCA*\n",
        "###### *7) Train a decision tree to classify genre*\n",
        "###### *8) Compare decision tree to a logistic regression*\n",
        "###### *9) Balance data for greater performance*\n",
        "###### *10) Balance dataset to improve model bias*"
      ],
      "metadata": {
        "id": "Nfm7gGidkJfV"
      }
    },
    {
      "cell_type": "code",
      "source": [
        "# Upload \"fma-rock-vs-hiphop.csv\" and \"echonest-metrics.json\" from local system\n",
        "from google.colab import files\n",
        "uploaded = files.upload()"
      ],
      "metadata": {
        "colab": {
          "base_uri": "https://localhost:8080/",
          "height": 108
        },
        "id": "v3qSG3TJHNOJ",
        "outputId": "4e83e462-42f4-4ed0-87e8-5f57f38fbfc8"
      },
      "execution_count": 49,
      "outputs": [
        {
          "output_type": "display_data",
          "data": {
            "text/plain": [
              "<IPython.core.display.HTML object>"
            ],
            "text/html": [
              "\n",
              "     <input type=\"file\" id=\"files-0ce35e76-9b3d-4f9a-8bf7-c78fa801e573\" name=\"files[]\" multiple disabled\n",
              "        style=\"border:none\" />\n",
              "     <output id=\"result-0ce35e76-9b3d-4f9a-8bf7-c78fa801e573\">\n",
              "      Upload widget is only available when the cell has been executed in the\n",
              "      current browser session. Please rerun this cell to enable.\n",
              "      </output>\n",
              "      <script>// Copyright 2017 Google LLC\n",
              "//\n",
              "// Licensed under the Apache License, Version 2.0 (the \"License\");\n",
              "// you may not use this file except in compliance with the License.\n",
              "// You may obtain a copy of the License at\n",
              "//\n",
              "//      http://www.apache.org/licenses/LICENSE-2.0\n",
              "//\n",
              "// Unless required by applicable law or agreed to in writing, software\n",
              "// distributed under the License is distributed on an \"AS IS\" BASIS,\n",
              "// WITHOUT WARRANTIES OR CONDITIONS OF ANY KIND, either express or implied.\n",
              "// See the License for the specific language governing permissions and\n",
              "// limitations under the License.\n",
              "\n",
              "/**\n",
              " * @fileoverview Helpers for google.colab Python module.\n",
              " */\n",
              "(function(scope) {\n",
              "function span(text, styleAttributes = {}) {\n",
              "  const element = document.createElement('span');\n",
              "  element.textContent = text;\n",
              "  for (const key of Object.keys(styleAttributes)) {\n",
              "    element.style[key] = styleAttributes[key];\n",
              "  }\n",
              "  return element;\n",
              "}\n",
              "\n",
              "// Max number of bytes which will be uploaded at a time.\n",
              "const MAX_PAYLOAD_SIZE = 100 * 1024;\n",
              "\n",
              "function _uploadFiles(inputId, outputId) {\n",
              "  const steps = uploadFilesStep(inputId, outputId);\n",
              "  const outputElement = document.getElementById(outputId);\n",
              "  // Cache steps on the outputElement to make it available for the next call\n",
              "  // to uploadFilesContinue from Python.\n",
              "  outputElement.steps = steps;\n",
              "\n",
              "  return _uploadFilesContinue(outputId);\n",
              "}\n",
              "\n",
              "// This is roughly an async generator (not supported in the browser yet),\n",
              "// where there are multiple asynchronous steps and the Python side is going\n",
              "// to poll for completion of each step.\n",
              "// This uses a Promise to block the python side on completion of each step,\n",
              "// then passes the result of the previous step as the input to the next step.\n",
              "function _uploadFilesContinue(outputId) {\n",
              "  const outputElement = document.getElementById(outputId);\n",
              "  const steps = outputElement.steps;\n",
              "\n",
              "  const next = steps.next(outputElement.lastPromiseValue);\n",
              "  return Promise.resolve(next.value.promise).then((value) => {\n",
              "    // Cache the last promise value to make it available to the next\n",
              "    // step of the generator.\n",
              "    outputElement.lastPromiseValue = value;\n",
              "    return next.value.response;\n",
              "  });\n",
              "}\n",
              "\n",
              "/**\n",
              " * Generator function which is called between each async step of the upload\n",
              " * process.\n",
              " * @param {string} inputId Element ID of the input file picker element.\n",
              " * @param {string} outputId Element ID of the output display.\n",
              " * @return {!Iterable<!Object>} Iterable of next steps.\n",
              " */\n",
              "function* uploadFilesStep(inputId, outputId) {\n",
              "  const inputElement = document.getElementById(inputId);\n",
              "  inputElement.disabled = false;\n",
              "\n",
              "  const outputElement = document.getElementById(outputId);\n",
              "  outputElement.innerHTML = '';\n",
              "\n",
              "  const pickedPromise = new Promise((resolve) => {\n",
              "    inputElement.addEventListener('change', (e) => {\n",
              "      resolve(e.target.files);\n",
              "    });\n",
              "  });\n",
              "\n",
              "  const cancel = document.createElement('button');\n",
              "  inputElement.parentElement.appendChild(cancel);\n",
              "  cancel.textContent = 'Cancel upload';\n",
              "  const cancelPromise = new Promise((resolve) => {\n",
              "    cancel.onclick = () => {\n",
              "      resolve(null);\n",
              "    };\n",
              "  });\n",
              "\n",
              "  // Wait for the user to pick the files.\n",
              "  const files = yield {\n",
              "    promise: Promise.race([pickedPromise, cancelPromise]),\n",
              "    response: {\n",
              "      action: 'starting',\n",
              "    }\n",
              "  };\n",
              "\n",
              "  cancel.remove();\n",
              "\n",
              "  // Disable the input element since further picks are not allowed.\n",
              "  inputElement.disabled = true;\n",
              "\n",
              "  if (!files) {\n",
              "    return {\n",
              "      response: {\n",
              "        action: 'complete',\n",
              "      }\n",
              "    };\n",
              "  }\n",
              "\n",
              "  for (const file of files) {\n",
              "    const li = document.createElement('li');\n",
              "    li.append(span(file.name, {fontWeight: 'bold'}));\n",
              "    li.append(span(\n",
              "        `(${file.type || 'n/a'}) - ${file.size} bytes, ` +\n",
              "        `last modified: ${\n",
              "            file.lastModifiedDate ? file.lastModifiedDate.toLocaleDateString() :\n",
              "                                    'n/a'} - `));\n",
              "    const percent = span('0% done');\n",
              "    li.appendChild(percent);\n",
              "\n",
              "    outputElement.appendChild(li);\n",
              "\n",
              "    const fileDataPromise = new Promise((resolve) => {\n",
              "      const reader = new FileReader();\n",
              "      reader.onload = (e) => {\n",
              "        resolve(e.target.result);\n",
              "      };\n",
              "      reader.readAsArrayBuffer(file);\n",
              "    });\n",
              "    // Wait for the data to be ready.\n",
              "    let fileData = yield {\n",
              "      promise: fileDataPromise,\n",
              "      response: {\n",
              "        action: 'continue',\n",
              "      }\n",
              "    };\n",
              "\n",
              "    // Use a chunked sending to avoid message size limits. See b/62115660.\n",
              "    let position = 0;\n",
              "    do {\n",
              "      const length = Math.min(fileData.byteLength - position, MAX_PAYLOAD_SIZE);\n",
              "      const chunk = new Uint8Array(fileData, position, length);\n",
              "      position += length;\n",
              "\n",
              "      const base64 = btoa(String.fromCharCode.apply(null, chunk));\n",
              "      yield {\n",
              "        response: {\n",
              "          action: 'append',\n",
              "          file: file.name,\n",
              "          data: base64,\n",
              "        },\n",
              "      };\n",
              "\n",
              "      let percentDone = fileData.byteLength === 0 ?\n",
              "          100 :\n",
              "          Math.round((position / fileData.byteLength) * 100);\n",
              "      percent.textContent = `${percentDone}% done`;\n",
              "\n",
              "    } while (position < fileData.byteLength);\n",
              "  }\n",
              "\n",
              "  // All done.\n",
              "  yield {\n",
              "    response: {\n",
              "      action: 'complete',\n",
              "    }\n",
              "  };\n",
              "}\n",
              "\n",
              "scope.google = scope.google || {};\n",
              "scope.google.colab = scope.google.colab || {};\n",
              "scope.google.colab._files = {\n",
              "  _uploadFiles,\n",
              "  _uploadFilesContinue,\n",
              "};\n",
              "})(self);\n",
              "</script> "
            ]
          },
          "metadata": {}
        },
        {
          "output_type": "stream",
          "name": "stdout",
          "text": [
            "Saving echonest-metrics.json to echonest-metrics.json\n",
            "Saving fma-rock-vs-hiphop.csv to fma-rock-vs-hiphop.csv\n"
          ]
        }
      ]
    },
    {
      "cell_type": "markdown",
      "source": [
        "## 1) INSTALL AND IMPORT LIBRARIES"
      ],
      "metadata": {
        "id": "wK4xTed8g39J"
      }
    },
    {
      "cell_type": "code",
      "source": [
        "# Installing pandas, sklearn, numpy and matplotlib\n",
        "!pip install pandas\n",
        "!pip install sklearn\n",
        "!pip install numpy\n",
        "!pip install matplotlib"
      ],
      "metadata": {
        "colab": {
          "base_uri": "https://localhost:8080/"
        },
        "id": "_vUtcxiHdFz3",
        "outputId": "c66db525-a724-4ea5-f432-89ed103d9c84"
      },
      "execution_count": 50,
      "outputs": [
        {
          "output_type": "stream",
          "name": "stdout",
          "text": [
            "Looking in indexes: https://pypi.org/simple, https://us-python.pkg.dev/colab-wheels/public/simple/\n",
            "Requirement already satisfied: pandas in /usr/local/lib/python3.9/dist-packages (1.4.4)\n",
            "Requirement already satisfied: numpy>=1.18.5 in /usr/local/lib/python3.9/dist-packages (from pandas) (1.22.4)\n",
            "Requirement already satisfied: python-dateutil>=2.8.1 in /usr/local/lib/python3.9/dist-packages (from pandas) (2.8.2)\n",
            "Requirement already satisfied: pytz>=2020.1 in /usr/local/lib/python3.9/dist-packages (from pandas) (2022.7.1)\n",
            "Requirement already satisfied: six>=1.5 in /usr/local/lib/python3.9/dist-packages (from python-dateutil>=2.8.1->pandas) (1.16.0)\n",
            "Looking in indexes: https://pypi.org/simple, https://us-python.pkg.dev/colab-wheels/public/simple/\n",
            "Requirement already satisfied: sklearn in /usr/local/lib/python3.9/dist-packages (0.0.post1)\n",
            "Looking in indexes: https://pypi.org/simple, https://us-python.pkg.dev/colab-wheels/public/simple/\n",
            "Requirement already satisfied: numpy in /usr/local/lib/python3.9/dist-packages (1.22.4)\n",
            "Looking in indexes: https://pypi.org/simple, https://us-python.pkg.dev/colab-wheels/public/simple/\n",
            "Requirement already satisfied: matplotlib in /usr/local/lib/python3.9/dist-packages (3.7.1)\n",
            "Requirement already satisfied: packaging>=20.0 in /usr/local/lib/python3.9/dist-packages (from matplotlib) (23.0)\n",
            "Requirement already satisfied: contourpy>=1.0.1 in /usr/local/lib/python3.9/dist-packages (from matplotlib) (1.0.7)\n",
            "Requirement already satisfied: python-dateutil>=2.7 in /usr/local/lib/python3.9/dist-packages (from matplotlib) (2.8.2)\n",
            "Requirement already satisfied: pillow>=6.2.0 in /usr/local/lib/python3.9/dist-packages (from matplotlib) (8.4.0)\n",
            "Requirement already satisfied: numpy>=1.20 in /usr/local/lib/python3.9/dist-packages (from matplotlib) (1.22.4)\n",
            "Requirement already satisfied: fonttools>=4.22.0 in /usr/local/lib/python3.9/dist-packages (from matplotlib) (4.39.3)\n",
            "Requirement already satisfied: importlib-resources>=3.2.0 in /usr/local/lib/python3.9/dist-packages (from matplotlib) (5.12.0)\n",
            "Requirement already satisfied: kiwisolver>=1.0.1 in /usr/local/lib/python3.9/dist-packages (from matplotlib) (1.4.4)\n",
            "Requirement already satisfied: pyparsing>=2.3.1 in /usr/local/lib/python3.9/dist-packages (from matplotlib) (3.0.9)\n",
            "Requirement already satisfied: cycler>=0.10 in /usr/local/lib/python3.9/dist-packages (from matplotlib) (0.11.0)\n",
            "Requirement already satisfied: zipp>=3.1.0 in /usr/local/lib/python3.9/dist-packages (from importlib-resources>=3.2.0->matplotlib) (3.15.0)\n",
            "Requirement already satisfied: six>=1.5 in /usr/local/lib/python3.9/dist-packages (from python-dateutil>=2.7->matplotlib) (1.16.0)\n"
          ]
        }
      ]
    },
    {
      "cell_type": "code",
      "source": [
        "import pandas as pd\n",
        "from sklearn.preprocessing import StandardScaler\n",
        "from sklearn.decomposition import PCA\n",
        "from sklearn.model_selection import train_test_split\n",
        "from sklearn.model_selection import KFold, cross_val_score\n",
        "from sklearn.tree import DecisionTreeClassifier\n",
        "from sklearn.linear_model import LogisticRegression\n",
        "from sklearn.metrics import classification_report\n",
        "import matplotlib.pyplot as plt\n",
        "import numpy as np\n",
        "%matplotlib inline"
      ],
      "metadata": {
        "id": "5BEeyjElcQPH"
      },
      "execution_count": 51,
      "outputs": []
    },
    {
      "cell_type": "markdown",
      "source": [
        "## 2) PREPARING DATASET\n"
      ],
      "metadata": {
        "id": "hRF08J9bcG5d"
      }
    },
    {
      "source": [
        "# Read in track metadata with genre labels\n",
        "tracks = pd.read_csv('fma-rock-vs-hiphop.csv')\n",
        "\n",
        "# Read in track metrics with the features\n",
        "echonest_metrics = pd.read_json('echonest-metrics.json', precise_float=True)\n",
        "\n",
        "# Merge the relevant columns of tracks and echonest_metrics\n",
        "echo_tracks = pd.merge(left=echonest_metrics, right=tracks[['track_id', 'genre_top']], on='track_id')\n",
        "\n",
        "# Inspect the resultant dataframe\n",
        "echo_tracks.info()"
      ],
      "cell_type": "code",
      "execution_count": 52,
      "metadata": {
        "trusted": true,
        "dc": {
          "key": "3"
        },
        "tags": [
          "sample_code"
        ],
        "colab": {
          "base_uri": "https://localhost:8080/"
        },
        "id": "f5GxjrHzVW8N",
        "outputId": "b516aa63-2346-4741-b5bf-0d61067a31ab"
      },
      "outputs": [
        {
          "output_type": "stream",
          "name": "stdout",
          "text": [
            "<class 'pandas.core.frame.DataFrame'>\n",
            "Int64Index: 4802 entries, 0 to 4801\n",
            "Data columns (total 10 columns):\n",
            " #   Column            Non-Null Count  Dtype  \n",
            "---  ------            --------------  -----  \n",
            " 0   track_id          4802 non-null   int64  \n",
            " 1   acousticness      4802 non-null   float64\n",
            " 2   danceability      4802 non-null   float64\n",
            " 3   energy            4802 non-null   float64\n",
            " 4   instrumentalness  4802 non-null   float64\n",
            " 5   liveness          4802 non-null   float64\n",
            " 6   speechiness       4802 non-null   float64\n",
            " 7   tempo             4802 non-null   float64\n",
            " 8   valence           4802 non-null   float64\n",
            " 9   genre_top         4802 non-null   object \n",
            "dtypes: float64(8), int64(1), object(1)\n",
            "memory usage: 412.7+ KB\n"
          ]
        }
      ]
    },
    {
      "source": [
        "## 3) PAIRWISE RELATIONSHIPS BETWEEN CONTINUOUS VARIABLES\n"
      ],
      "cell_type": "markdown",
      "metadata": {
        "editable": false,
        "dc": {
          "key": "10"
        },
        "deletable": false,
        "tags": [
          "context"
        ],
        "run_control": {
          "frozen": true
        },
        "id": "KLb3428tVW8P"
      }
    },
    {
      "source": [
        "# Create a correlation matrix\n",
        "corr_metrics = echo_tracks.corr()\n",
        "corr_metrics.style.background_gradient(cmap='Greens')"
      ],
      "cell_type": "code",
      "execution_count": 53,
      "metadata": {
        "trusted": true,
        "dc": {
          "key": "10"
        },
        "tags": [
          "sample_code"
        ],
        "colab": {
          "base_uri": "https://localhost:8080/",
          "height": 331
        },
        "id": "QMzXSWxqVW8Q",
        "outputId": "a8263f01-6c43-4de1-9267-464389691e3d"
      },
      "outputs": [
        {
          "output_type": "execute_result",
          "data": {
            "text/plain": [
              "<pandas.io.formats.style.Styler at 0x7f5d0b4813a0>"
            ],
            "text/html": [
              "<style type=\"text/css\">\n",
              "#T_66669_row0_col0, #T_66669_row1_col1, #T_66669_row2_col2, #T_66669_row3_col3, #T_66669_row4_col4, #T_66669_row5_col5, #T_66669_row6_col6, #T_66669_row7_col7, #T_66669_row8_col8 {\n",
              "  background-color: #00441b;\n",
              "  color: #f1f1f1;\n",
              "}\n",
              "#T_66669_row0_col1, #T_66669_row1_col0, #T_66669_row1_col3, #T_66669_row2_col5, #T_66669_row2_col7, #T_66669_row4_col2, #T_66669_row4_col6, #T_66669_row4_col8, #T_66669_row6_col4 {\n",
              "  background-color: #f7fcf5;\n",
              "  color: #000000;\n",
              "}\n",
              "#T_66669_row0_col2 {\n",
              "  background-color: #c9eac2;\n",
              "  color: #000000;\n",
              "}\n",
              "#T_66669_row0_col3 {\n",
              "  background-color: #afdfa8;\n",
              "  color: #000000;\n",
              "}\n",
              "#T_66669_row0_col4 {\n",
              "  background-color: #edf8ea;\n",
              "  color: #000000;\n",
              "}\n",
              "#T_66669_row0_col5 {\n",
              "  background-color: #e2f4dd;\n",
              "  color: #000000;\n",
              "}\n",
              "#T_66669_row0_col6, #T_66669_row8_col3 {\n",
              "  background-color: #c8e9c1;\n",
              "  color: #000000;\n",
              "}\n",
              "#T_66669_row0_col7, #T_66669_row1_col7 {\n",
              "  background-color: #daf0d4;\n",
              "  color: #000000;\n",
              "}\n",
              "#T_66669_row0_col8, #T_66669_row3_col6 {\n",
              "  background-color: #d6efd0;\n",
              "  color: #000000;\n",
              "}\n",
              "#T_66669_row1_col2 {\n",
              "  background-color: #d8f0d2;\n",
              "  color: #000000;\n",
              "}\n",
              "#T_66669_row1_col4, #T_66669_row4_col1 {\n",
              "  background-color: #94d390;\n",
              "  color: #000000;\n",
              "}\n",
              "#T_66669_row1_col5, #T_66669_row2_col4 {\n",
              "  background-color: #ecf8e8;\n",
              "  color: #000000;\n",
              "}\n",
              "#T_66669_row1_col6, #T_66669_row6_col1 {\n",
              "  background-color: #b1e0ab;\n",
              "  color: #000000;\n",
              "}\n",
              "#T_66669_row1_col8 {\n",
              "  background-color: #dbf1d5;\n",
              "  color: #000000;\n",
              "}\n",
              "#T_66669_row2_col0, #T_66669_row5_col0, #T_66669_row5_col3 {\n",
              "  background-color: #b6e2af;\n",
              "  color: #000000;\n",
              "}\n",
              "#T_66669_row2_col1, #T_66669_row6_col0, #T_66669_row7_col0, #T_66669_row7_col1 {\n",
              "  background-color: #c7e9c0;\n",
              "  color: #000000;\n",
              "}\n",
              "#T_66669_row2_col3 {\n",
              "  background-color: #f3faf0;\n",
              "  color: #000000;\n",
              "}\n",
              "#T_66669_row2_col6 {\n",
              "  background-color: #7fc97f;\n",
              "  color: #000000;\n",
              "}\n",
              "#T_66669_row2_col8 {\n",
              "  background-color: #58b668;\n",
              "  color: #f1f1f1;\n",
              "}\n",
              "#T_66669_row3_col0, #T_66669_row7_col3 {\n",
              "  background-color: #a2d99c;\n",
              "  color: #000000;\n",
              "}\n",
              "#T_66669_row3_col1 {\n",
              "  background-color: #eef8ea;\n",
              "  color: #000000;\n",
              "}\n",
              "#T_66669_row3_col2, #T_66669_row7_col2 {\n",
              "  background-color: #f6fcf4;\n",
              "  color: #000000;\n",
              "}\n",
              "#T_66669_row3_col4 {\n",
              "  background-color: #bce4b5;\n",
              "  color: #000000;\n",
              "}\n",
              "#T_66669_row3_col5, #T_66669_row5_col7 {\n",
              "  background-color: #d4eece;\n",
              "  color: #000000;\n",
              "}\n",
              "#T_66669_row3_col7 {\n",
              "  background-color: #a8dca2;\n",
              "  color: #000000;\n",
              "}\n",
              "#T_66669_row3_col8, #T_66669_row4_col7 {\n",
              "  background-color: #d0edca;\n",
              "  color: #000000;\n",
              "}\n",
              "#T_66669_row4_col0 {\n",
              "  background-color: #edf8e9;\n",
              "  color: #000000;\n",
              "}\n",
              "#T_66669_row4_col3 {\n",
              "  background-color: #caeac3;\n",
              "  color: #000000;\n",
              "}\n",
              "#T_66669_row4_col5 {\n",
              "  background-color: #f5fbf3;\n",
              "  color: #000000;\n",
              "}\n",
              "#T_66669_row5_col1 {\n",
              "  background-color: #c6e8bf;\n",
              "  color: #000000;\n",
              "}\n",
              "#T_66669_row5_col2 {\n",
              "  background-color: #e6f5e1;\n",
              "  color: #000000;\n",
              "}\n",
              "#T_66669_row5_col4, #T_66669_row6_col7 {\n",
              "  background-color: #d3eecd;\n",
              "  color: #000000;\n",
              "}\n",
              "#T_66669_row5_col6 {\n",
              "  background-color: #b8e3b2;\n",
              "  color: #000000;\n",
              "}\n",
              "#T_66669_row5_col8 {\n",
              "  background-color: #e1f3dc;\n",
              "  color: #000000;\n",
              "}\n",
              "#T_66669_row6_col2 {\n",
              "  background-color: #90d18d;\n",
              "  color: #000000;\n",
              "}\n",
              "#T_66669_row6_col3, #T_66669_row6_col5 {\n",
              "  background-color: #e3f4de;\n",
              "  color: #000000;\n",
              "}\n",
              "#T_66669_row6_col8 {\n",
              "  background-color: #b7e2b1;\n",
              "  color: #000000;\n",
              "}\n",
              "#T_66669_row7_col4 {\n",
              "  background-color: #bde5b6;\n",
              "  color: #000000;\n",
              "}\n",
              "#T_66669_row7_col5 {\n",
              "  background-color: #e9f7e5;\n",
              "  color: #000000;\n",
              "}\n",
              "#T_66669_row7_col6 {\n",
              "  background-color: #c0e6b9;\n",
              "  color: #000000;\n",
              "}\n",
              "#T_66669_row7_col8 {\n",
              "  background-color: #cdecc7;\n",
              "  color: #000000;\n",
              "}\n",
              "#T_66669_row8_col0 {\n",
              "  background-color: #bee5b8;\n",
              "  color: #000000;\n",
              "}\n",
              "#T_66669_row8_col1 {\n",
              "  background-color: #c4e8bd;\n",
              "  color: #000000;\n",
              "}\n",
              "#T_66669_row8_col2 {\n",
              "  background-color: #53b466;\n",
              "  color: #f1f1f1;\n",
              "}\n",
              "#T_66669_row8_col4 {\n",
              "  background-color: #e8f6e3;\n",
              "  color: #000000;\n",
              "}\n",
              "#T_66669_row8_col5 {\n",
              "  background-color: #eff9ec;\n",
              "  color: #000000;\n",
              "}\n",
              "#T_66669_row8_col6 {\n",
              "  background-color: #a0d99b;\n",
              "  color: #000000;\n",
              "}\n",
              "#T_66669_row8_col7 {\n",
              "  background-color: #cbeac4;\n",
              "  color: #000000;\n",
              "}\n",
              "</style>\n",
              "<table id=\"T_66669\" class=\"dataframe\">\n",
              "  <thead>\n",
              "    <tr>\n",
              "      <th class=\"blank level0\" >&nbsp;</th>\n",
              "      <th id=\"T_66669_level0_col0\" class=\"col_heading level0 col0\" >track_id</th>\n",
              "      <th id=\"T_66669_level0_col1\" class=\"col_heading level0 col1\" >acousticness</th>\n",
              "      <th id=\"T_66669_level0_col2\" class=\"col_heading level0 col2\" >danceability</th>\n",
              "      <th id=\"T_66669_level0_col3\" class=\"col_heading level0 col3\" >energy</th>\n",
              "      <th id=\"T_66669_level0_col4\" class=\"col_heading level0 col4\" >instrumentalness</th>\n",
              "      <th id=\"T_66669_level0_col5\" class=\"col_heading level0 col5\" >liveness</th>\n",
              "      <th id=\"T_66669_level0_col6\" class=\"col_heading level0 col6\" >speechiness</th>\n",
              "      <th id=\"T_66669_level0_col7\" class=\"col_heading level0 col7\" >tempo</th>\n",
              "      <th id=\"T_66669_level0_col8\" class=\"col_heading level0 col8\" >valence</th>\n",
              "    </tr>\n",
              "  </thead>\n",
              "  <tbody>\n",
              "    <tr>\n",
              "      <th id=\"T_66669_level0_row0\" class=\"row_heading level0 row0\" >track_id</th>\n",
              "      <td id=\"T_66669_row0_col0\" class=\"data row0 col0\" >1.000000</td>\n",
              "      <td id=\"T_66669_row0_col1\" class=\"data row0 col1\" >-0.372282</td>\n",
              "      <td id=\"T_66669_row0_col2\" class=\"data row0 col2\" >0.049454</td>\n",
              "      <td id=\"T_66669_row0_col3\" class=\"data row0 col3\" >0.140703</td>\n",
              "      <td id=\"T_66669_row0_col4\" class=\"data row0 col4\" >-0.275623</td>\n",
              "      <td id=\"T_66669_row0_col5\" class=\"data row0 col5\" >0.048231</td>\n",
              "      <td id=\"T_66669_row0_col6\" class=\"data row0 col6\" >-0.026995</td>\n",
              "      <td id=\"T_66669_row0_col7\" class=\"data row0 col7\" >-0.025392</td>\n",
              "      <td id=\"T_66669_row0_col8\" class=\"data row0 col8\" >0.010070</td>\n",
              "    </tr>\n",
              "    <tr>\n",
              "      <th id=\"T_66669_level0_row1\" class=\"row_heading level0 row1\" >acousticness</th>\n",
              "      <td id=\"T_66669_row1_col0\" class=\"data row1 col0\" >-0.372282</td>\n",
              "      <td id=\"T_66669_row1_col1\" class=\"data row1 col1\" >1.000000</td>\n",
              "      <td id=\"T_66669_row1_col2\" class=\"data row1 col2\" >-0.028954</td>\n",
              "      <td id=\"T_66669_row1_col3\" class=\"data row1 col3\" >-0.281619</td>\n",
              "      <td id=\"T_66669_row1_col4\" class=\"data row1 col4\" >0.194780</td>\n",
              "      <td id=\"T_66669_row1_col5\" class=\"data row1 col5\" >-0.019991</td>\n",
              "      <td id=\"T_66669_row1_col6\" class=\"data row1 col6\" >0.072204</td>\n",
              "      <td id=\"T_66669_row1_col7\" class=\"data row1 col7\" >-0.026310</td>\n",
              "      <td id=\"T_66669_row1_col8\" class=\"data row1 col8\" >-0.013841</td>\n",
              "    </tr>\n",
              "    <tr>\n",
              "      <th id=\"T_66669_level0_row2\" class=\"row_heading level0 row2\" >danceability</th>\n",
              "      <td id=\"T_66669_row2_col0\" class=\"data row2 col0\" >0.049454</td>\n",
              "      <td id=\"T_66669_row2_col1\" class=\"data row2 col1\" >-0.028954</td>\n",
              "      <td id=\"T_66669_row2_col2\" class=\"data row2 col2\" >1.000000</td>\n",
              "      <td id=\"T_66669_row2_col3\" class=\"data row2 col3\" >-0.242032</td>\n",
              "      <td id=\"T_66669_row2_col4\" class=\"data row2 col4\" >-0.255217</td>\n",
              "      <td id=\"T_66669_row2_col5\" class=\"data row2 col5\" >-0.106584</td>\n",
              "      <td id=\"T_66669_row2_col6\" class=\"data row2 col6\" >0.276206</td>\n",
              "      <td id=\"T_66669_row2_col7\" class=\"data row2 col7\" >-0.242089</td>\n",
              "      <td id=\"T_66669_row2_col8\" class=\"data row2 col8\" >0.473165</td>\n",
              "    </tr>\n",
              "    <tr>\n",
              "      <th id=\"T_66669_level0_row3\" class=\"row_heading level0 row3\" >energy</th>\n",
              "      <td id=\"T_66669_row3_col0\" class=\"data row3 col0\" >0.140703</td>\n",
              "      <td id=\"T_66669_row3_col1\" class=\"data row3 col1\" >-0.281619</td>\n",
              "      <td id=\"T_66669_row3_col2\" class=\"data row3 col2\" >-0.242032</td>\n",
              "      <td id=\"T_66669_row3_col3\" class=\"data row3 col3\" >1.000000</td>\n",
              "      <td id=\"T_66669_row3_col4\" class=\"data row3 col4\" >0.028238</td>\n",
              "      <td id=\"T_66669_row3_col5\" class=\"data row3 col5\" >0.113331</td>\n",
              "      <td id=\"T_66669_row3_col6\" class=\"data row3 col6\" >-0.109983</td>\n",
              "      <td id=\"T_66669_row3_col7\" class=\"data row3 col7\" >0.195227</td>\n",
              "      <td id=\"T_66669_row3_col8\" class=\"data row3 col8\" >0.038603</td>\n",
              "    </tr>\n",
              "    <tr>\n",
              "      <th id=\"T_66669_level0_row4\" class=\"row_heading level0 row4\" >instrumentalness</th>\n",
              "      <td id=\"T_66669_row4_col0\" class=\"data row4 col0\" >-0.275623</td>\n",
              "      <td id=\"T_66669_row4_col1\" class=\"data row4 col1\" >0.194780</td>\n",
              "      <td id=\"T_66669_row4_col2\" class=\"data row4 col2\" >-0.255217</td>\n",
              "      <td id=\"T_66669_row4_col3\" class=\"data row4 col3\" >0.028238</td>\n",
              "      <td id=\"T_66669_row4_col4\" class=\"data row4 col4\" >1.000000</td>\n",
              "      <td id=\"T_66669_row4_col5\" class=\"data row4 col5\" >-0.091022</td>\n",
              "      <td id=\"T_66669_row4_col6\" class=\"data row4 col6\" >-0.366762</td>\n",
              "      <td id=\"T_66669_row4_col7\" class=\"data row4 col7\" >0.022215</td>\n",
              "      <td id=\"T_66669_row4_col8\" class=\"data row4 col8\" >-0.219967</td>\n",
              "    </tr>\n",
              "    <tr>\n",
              "      <th id=\"T_66669_level0_row5\" class=\"row_heading level0 row5\" >liveness</th>\n",
              "      <td id=\"T_66669_row5_col0\" class=\"data row5 col0\" >0.048231</td>\n",
              "      <td id=\"T_66669_row5_col1\" class=\"data row5 col1\" >-0.019991</td>\n",
              "      <td id=\"T_66669_row5_col2\" class=\"data row5 col2\" >-0.106584</td>\n",
              "      <td id=\"T_66669_row5_col3\" class=\"data row5 col3\" >0.113331</td>\n",
              "      <td id=\"T_66669_row5_col4\" class=\"data row5 col4\" >-0.091022</td>\n",
              "      <td id=\"T_66669_row5_col5\" class=\"data row5 col5\" >1.000000</td>\n",
              "      <td id=\"T_66669_row5_col6\" class=\"data row5 col6\" >0.041173</td>\n",
              "      <td id=\"T_66669_row5_col7\" class=\"data row5 col7\" >0.002732</td>\n",
              "      <td id=\"T_66669_row5_col8\" class=\"data row5 col8\" >-0.045093</td>\n",
              "    </tr>\n",
              "    <tr>\n",
              "      <th id=\"T_66669_level0_row6\" class=\"row_heading level0 row6\" >speechiness</th>\n",
              "      <td id=\"T_66669_row6_col0\" class=\"data row6 col0\" >-0.026995</td>\n",
              "      <td id=\"T_66669_row6_col1\" class=\"data row6 col1\" >0.072204</td>\n",
              "      <td id=\"T_66669_row6_col2\" class=\"data row6 col2\" >0.276206</td>\n",
              "      <td id=\"T_66669_row6_col3\" class=\"data row6 col3\" >-0.109983</td>\n",
              "      <td id=\"T_66669_row6_col4\" class=\"data row6 col4\" >-0.366762</td>\n",
              "      <td id=\"T_66669_row6_col5\" class=\"data row6 col5\" >0.041173</td>\n",
              "      <td id=\"T_66669_row6_col6\" class=\"data row6 col6\" >1.000000</td>\n",
              "      <td id=\"T_66669_row6_col7\" class=\"data row6 col7\" >0.008241</td>\n",
              "      <td id=\"T_66669_row6_col8\" class=\"data row6 col8\" >0.149894</td>\n",
              "    </tr>\n",
              "    <tr>\n",
              "      <th id=\"T_66669_level0_row7\" class=\"row_heading level0 row7\" >tempo</th>\n",
              "      <td id=\"T_66669_row7_col0\" class=\"data row7 col0\" >-0.025392</td>\n",
              "      <td id=\"T_66669_row7_col1\" class=\"data row7 col1\" >-0.026310</td>\n",
              "      <td id=\"T_66669_row7_col2\" class=\"data row7 col2\" >-0.242089</td>\n",
              "      <td id=\"T_66669_row7_col3\" class=\"data row7 col3\" >0.195227</td>\n",
              "      <td id=\"T_66669_row7_col4\" class=\"data row7 col4\" >0.022215</td>\n",
              "      <td id=\"T_66669_row7_col5\" class=\"data row7 col5\" >0.002732</td>\n",
              "      <td id=\"T_66669_row7_col6\" class=\"data row7 col6\" >0.008241</td>\n",
              "      <td id=\"T_66669_row7_col7\" class=\"data row7 col7\" >1.000000</td>\n",
              "      <td id=\"T_66669_row7_col8\" class=\"data row7 col8\" >0.052221</td>\n",
              "    </tr>\n",
              "    <tr>\n",
              "      <th id=\"T_66669_level0_row8\" class=\"row_heading level0 row8\" >valence</th>\n",
              "      <td id=\"T_66669_row8_col0\" class=\"data row8 col0\" >0.010070</td>\n",
              "      <td id=\"T_66669_row8_col1\" class=\"data row8 col1\" >-0.013841</td>\n",
              "      <td id=\"T_66669_row8_col2\" class=\"data row8 col2\" >0.473165</td>\n",
              "      <td id=\"T_66669_row8_col3\" class=\"data row8 col3\" >0.038603</td>\n",
              "      <td id=\"T_66669_row8_col4\" class=\"data row8 col4\" >-0.219967</td>\n",
              "      <td id=\"T_66669_row8_col5\" class=\"data row8 col5\" >-0.045093</td>\n",
              "      <td id=\"T_66669_row8_col6\" class=\"data row8 col6\" >0.149894</td>\n",
              "      <td id=\"T_66669_row8_col7\" class=\"data row8 col7\" >0.052221</td>\n",
              "      <td id=\"T_66669_row8_col8\" class=\"data row8 col8\" >1.000000</td>\n",
              "    </tr>\n",
              "  </tbody>\n",
              "</table>\n"
            ]
          },
          "metadata": {},
          "execution_count": 53
        }
      ]
    },
    {
      "source": [
        "## 4) NORMALIZING THE FEATURE DATA\n"
      ],
      "cell_type": "markdown",
      "metadata": {
        "editable": false,
        "dc": {
          "key": "17"
        },
        "deletable": false,
        "tags": [
          "context"
        ],
        "run_control": {
          "frozen": true
        },
        "id": "ePB52SEFVW8R"
      }
    },
    {
      "source": [
        "# Define our features \n",
        "features = echo_tracks.drop(['genre_top', 'track_id'], axis=1)\n",
        "\n",
        "# Define our labels\n",
        "labels = echo_tracks['genre_top']\n",
        "\n",
        "# Scale the features and set the values to a new variable\n",
        "scaler = StandardScaler()\n",
        "scaled_train_features = scaler.fit_transform(features)"
      ],
      "cell_type": "code",
      "execution_count": 54,
      "metadata": {
        "trusted": true,
        "dc": {
          "key": "17"
        },
        "tags": [
          "sample_code"
        ],
        "collapsed": true,
        "id": "9R2nEf5UVW8R"
      },
      "outputs": []
    },
    {
      "source": [
        "## 5) PRINCIPAL COMPONENT ANALYSIS ON OUR SCALED DATA"
      ],
      "cell_type": "markdown",
      "metadata": {
        "editable": false,
        "dc": {
          "key": "24"
        },
        "deletable": false,
        "tags": [
          "context"
        ],
        "run_control": {
          "frozen": true
        },
        "id": "5QymMXKzVW8R"
      }
    },
    {
      "source": [
        "# Get our explained variance ratios from PCA using all features\n",
        "pca = PCA()\n",
        "pca.fit(scaled_train_features)\n",
        "exp_variance = pca.explained_variance_ratio_\n",
        "\n",
        "print(pca.explained_variance_ratio_)\n",
        "print(pca.n_components_)\n",
        "\n",
        "# Plot the explained variance using a barplot with red color\n",
        "fig, ax = plt.subplots()\n",
        "ax.bar(range(pca.n_components_), exp_variance, color='purple')\n",
        "ax.set_xlabel('Principal Component #')"
      ],
      "cell_type": "code",
      "execution_count": 55,
      "metadata": {
        "trusted": true,
        "dc": {
          "key": "24"
        },
        "tags": [
          "sample_code"
        ],
        "colab": {
          "base_uri": "https://localhost:8080/",
          "height": 518
        },
        "id": "6ELEiohWVW8S",
        "outputId": "f5dca3d7-d34f-4d5a-a072-904782cc1342"
      },
      "outputs": [
        {
          "output_type": "stream",
          "name": "stdout",
          "text": [
            "[0.24297674 0.18044316 0.13650309 0.12994089 0.11056248 0.08302245\n",
            " 0.06923783 0.04731336]\n",
            "8\n"
          ]
        },
        {
          "output_type": "execute_result",
          "data": {
            "text/plain": [
              "Text(0.5, 0, 'Principal Component #')"
            ]
          },
          "metadata": {},
          "execution_count": 55
        },
        {
          "output_type": "display_data",
          "data": {
            "text/plain": [
              "<Figure size 640x480 with 1 Axes>"
            ],
            "image/png": "[encoded data removed]"
          },
          "metadata": {}
        }
      ]
    },
    {
      "source": [
        "## 6) FURTHER VISUALIZATION OF PCA\n"
      ],
      "cell_type": "markdown",
      "metadata": {
        "editable": false,
        "dc": {
          "key": "31"
        },
        "deletable": false,
        "tags": [
          "context"
        ],
        "run_control": {
          "frozen": true
        },
        "id": "IUZEmx3iVW8T"
      }
    },
    {
      "source": [
        "# Calculate the cumulative explained variance\n",
        "cum_exp_variance = np.cumsum(exp_variance)\n",
        "\n",
        "# Plot the cumulative explained variance and draw a dashed line at 0.90.\n",
        "fig, ax = plt.subplots()\n",
        "ax.plot(range(pca.n_components_), cum_exp_variance, color='red')\n",
        "ax.axhline(y=0.9, linestyle='--', color='orange')\n",
        "n_components = 6\n",
        "\n",
        "# Perform PCA with the chosen number of components and project data onto components\n",
        "pca = PCA(n_components, random_state=10)\n",
        "pca.fit(scaled_train_features)\n",
        "pca_projection = pca.transform(scaled_train_features)"
      ],
      "cell_type": "code",
      "execution_count": 56,
      "metadata": {
        "trusted": true,
        "dc": {
          "key": "31"
        },
        "tags": [
          "sample_code"
        ],
        "colab": {
          "base_uri": "https://localhost:8080/",
          "height": 430
        },
        "id": "Q2i5SIZFVW8U",
        "outputId": "396798ad-80f7-4ebf-80b9-7d75d577bdbb"
      },
      "outputs": [
        {
          "output_type": "display_data",
          "data": {
            "text/plain": [
              "<Figure size 640x480 with 1 Axes>"
            ],
            "image/png": "[encoded data removed]"
          },
          "metadata": {}
        }
      ]
    },
    {
      "source": [
        "## 7) TRAIN A DECISION TREE TO CLASSIFY GENRE\n"
      ],
      "cell_type": "markdown",
      "metadata": {
        "editable": false,
        "dc": {
          "key": "38"
        },
        "deletable": false,
        "tags": [
          "context"
        ],
        "run_control": {
          "frozen": true
        },
        "id": "sGArvY_HVW8U"
      }
    },
    {
      "source": [
        "# Split our data\n",
        "train_features, test_features, train_labels, test_labels = train_test_split(pca_projection, labels, random_state=10)\n",
        "\n",
        "# Train our decision tree\n",
        "tree = DecisionTreeClassifier(random_state=10)\n",
        "tree.fit(train_features, train_labels)\n",
        "\n",
        "# Predict the labels for the test data\n",
        "pred_labels_tree = tree.predict(test_features)"
      ],
      "cell_type": "code",
      "execution_count": 57,
      "metadata": {
        "trusted": true,
        "dc": {
          "key": "38"
        },
        "tags": [
          "sample_code"
        ],
        "collapsed": true,
        "id": "vCF73x9XVW8V"
      },
      "outputs": []
    },
    {
      "source": [
        "## 8) COMPARE OUR DECISION TREE TO A LOGISTIC REGRESSION\n"
      ],
      "cell_type": "markdown",
      "metadata": {
        "editable": false,
        "dc": {
          "key": "45"
        },
        "deletable": false,
        "tags": [
          "context"
        ],
        "run_control": {
          "frozen": true
        },
        "id": "8pAPX6JRVW8V"
      }
    },
    {
      "source": [
        "# Train our logistic regression and predict labels for the test set\n",
        "logreg = LogisticRegression(random_state=10)\n",
        "logreg.fit(train_features, train_labels)\n",
        "pred_labels_logit = logreg.predict(test_features)\n",
        "\n",
        "class_rep_tree = classification_report(test_labels, pred_labels_tree)\n",
        "class_rep_log = classification_report(test_labels, pred_labels_logit)\n",
        "\n",
        "print(\"Decision Tree: \\n\", class_rep_tree)\n",
        "print(\"Logistic Regression: \\n\", class_rep_log)"
      ],
      "cell_type": "code",
      "execution_count": 58,
      "metadata": {
        "trusted": true,
        "dc": {
          "key": "45"
        },
        "tags": [
          "sample_code"
        ],
        "colab": {
          "base_uri": "https://localhost:8080/"
        },
        "id": "yZ-LenmrVW8W",
        "outputId": "9b627d2d-95bd-4edf-9829-4bed067ed124"
      },
      "outputs": [
        {
          "output_type": "stream",
          "name": "stdout",
          "text": [
            "Decision Tree: \n",
            "               precision    recall  f1-score   support\n",
            "\n",
            "     Hip-Hop       0.60      0.60      0.60       235\n",
            "        Rock       0.90      0.90      0.90       966\n",
            "\n",
            "    accuracy                           0.84      1201\n",
            "   macro avg       0.75      0.75      0.75      1201\n",
            "weighted avg       0.84      0.84      0.84      1201\n",
            "\n",
            "Logistic Regression: \n",
            "               precision    recall  f1-score   support\n",
            "\n",
            "     Hip-Hop       0.77      0.54      0.64       235\n",
            "        Rock       0.90      0.96      0.93       966\n",
            "\n",
            "    accuracy                           0.88      1201\n",
            "   macro avg       0.83      0.75      0.78      1201\n",
            "weighted avg       0.87      0.88      0.87      1201\n",
            "\n"
          ]
        }
      ]
    },
    {
      "source": [
        "## 9) BALANCE OUR DATA FOR GREATER PERFORMANCE\n"
      ],
      "cell_type": "markdown",
      "metadata": {
        "editable": false,
        "dc": {
          "key": "52"
        },
        "deletable": false,
        "tags": [
          "context"
        ],
        "run_control": {
          "frozen": true
        },
        "id": "9bq7RCFeVW8X"
      }
    },
    {
      "source": [
        "# Subset only the hip-hop tracks, and then only the rock tracks\n",
        "hop_only = echo_tracks.loc[echo_tracks[\"genre_top\"] == \"Hip-Hop\"]\n",
        "rock_only = echo_tracks.loc[echo_tracks[\"genre_top\"] == \"Rock\"]\n",
        "\n",
        "# Sample the rocks songs to be the same number as there are hip-hop songs\n",
        "rock_only = rock_only.sample(len(hop_only), random_state=10)\n",
        "\n",
        "# Concatenate the dataframes rock_only and hop_only\n",
        "rock_hop_bal = pd.concat([rock_only, hop_only])\n",
        "\n",
        "# The features, labels, and pca projection are created for the balanced dataframe\n",
        "features = rock_hop_bal.drop(['genre_top', 'track_id'], axis=1) \n",
        "labels = rock_hop_bal['genre_top']\n",
        "pca_projection = pca.fit_transform(scaler.fit_transform(features))\n",
        "\n",
        "# Redefine the train and test set with the pca_projection from the balanced data\n",
        "train_features, test_features, train_labels, test_labels = train_test_split(pca_projection, labels, random_state=10)"
      ],
      "cell_type": "code",
      "execution_count": 59,
      "metadata": {
        "trusted": true,
        "dc": {
          "key": "52"
        },
        "tags": [
          "sample_code"
        ],
        "collapsed": true,
        "id": "wMXJzk6XVW8X"
      },
      "outputs": []
    },
    {
      "source": [
        "## 10) BALANCING DATASET TO IMPROVE MODEL BIAS\n"
      ],
      "cell_type": "markdown",
      "metadata": {
        "editable": false,
        "dc": {
          "key": "59"
        },
        "deletable": false,
        "tags": [
          "context"
        ],
        "run_control": {
          "frozen": true
        },
        "id": "yMrGqQLyVW8X"
      }
    },
    {
      "source": [
        "# Train our decision tree on the balanced data\n",
        "tree = DecisionTreeClassifier(random_state=10)\n",
        "tree.fit(train_features, train_labels)\n",
        "pred_labels_tree = tree.predict(test_features)\n",
        "\n",
        "# Train our logistic regression on the balanced data\n",
        "logreg = LogisticRegression(random_state=10)\n",
        "logreg.fit(train_features, train_labels)\n",
        "pred_labels_logit = logreg.predict(test_features)\n",
        "\n",
        "# Compare the models\n",
        "print(\"Decision Tree: \\n\", classification_report(test_labels, pred_labels_tree))\n",
        "print(\"Logistic Regression: \\n\", classification_report(test_labels, pred_labels_logit))"
      ],
      "cell_type": "code",
      "execution_count": 60,
      "metadata": {
        "trusted": true,
        "dc": {
          "key": "59"
        },
        "tags": [
          "sample_code"
        ],
        "colab": {
          "base_uri": "https://localhost:8080/"
        },
        "id": "t2M34eyDVW8X",
        "outputId": "808943ee-8d69-49c9-99eb-79618c765f03"
      },
      "outputs": [
        {
          "output_type": "stream",
          "name": "stdout",
          "text": [
            "Decision Tree: \n",
            "               precision    recall  f1-score   support\n",
            "\n",
            "     Hip-Hop       0.74      0.73      0.74       230\n",
            "        Rock       0.73      0.74      0.73       225\n",
            "\n",
            "    accuracy                           0.74       455\n",
            "   macro avg       0.74      0.74      0.74       455\n",
            "weighted avg       0.74      0.74      0.74       455\n",
            "\n",
            "Logistic Regression: \n",
            "               precision    recall  f1-score   support\n",
            "\n",
            "     Hip-Hop       0.84      0.80      0.82       230\n",
            "        Rock       0.80      0.85      0.83       225\n",
            "\n",
            "    accuracy                           0.82       455\n",
            "   macro avg       0.82      0.82      0.82       455\n",
            "weighted avg       0.82      0.82      0.82       455\n",
            "\n"
          ]
        }
      ]
    },
    {
      "source": [
        "## 11) USING CROSS-VALIDATION TO EVALUATE OUR MODELS\n"
      ],
      "cell_type": "markdown",
      "metadata": {
        "editable": false,
        "dc": {
          "key": "66"
        },
        "deletable": false,
        "tags": [
          "context"
        ],
        "run_control": {
          "frozen": true
        },
        "id": "KP6EnRvRVW8Y"
      }
    },
    {
      "source": [
        "# Set up our K-fold cross-validation\n",
        "kf = KFold(n_splits=10, random_state=None)\n",
        "\n",
        "tree = DecisionTreeClassifier(random_state=10)\n",
        "logreg = LogisticRegression(random_state=10)\n",
        "\n",
        "# Train our models using KFold cv\n",
        "tree_score = cross_val_score(tree, pca_projection, labels, cv=kf)\n",
        "logit_score = cross_val_score(logreg, pca_projection, labels, cv=kf)\n",
        "\n",
        "# Print the mean of each array of scores\n",
        "print(\"Decision Tree:\", np.mean(tree_score), \"Logistic Regression:\", np.mean(logit_score))"
      ],
      "cell_type": "code",
      "execution_count": 61,
      "metadata": {
        "trusted": true,
        "dc": {
          "key": "66"
        },
        "tags": [
          "sample_code"
        ],
        "colab": {
          "base_uri": "https://localhost:8080/"
        },
        "id": "opzWoseUVW8Y",
        "outputId": "e056e122-d9fc-4651-f59b-8e9d39652e07"
      },
      "outputs": [
        {
          "output_type": "stream",
          "name": "stdout",
          "text": [
            "Decision Tree: 0.7489010989010989 Logistic Regression: 0.782967032967033\n"
          ]
        }
      ]
    }
  ],
  "metadata": {
    "language_info": {
      "pygments_lexer": "ipython3",
      "codemirror_mode": {
        "name": "ipython",
        "version": 3
      },
      "name": "python",
      "nbconvert_exporter": "python",
      "file_extension": ".py",
      "mimetype": "text/x-python",
      "version": "3.5.2"
    },
    "kernelspec": {
      "name": "python3",
      "language": "python",
      "display_name": "Python 3"
    },
    "colab": {
      "provenance": []
    },
    "accelerator": "GPU",
    "gpuClass": "standard"
  },
  "nbformat_minor": 0
}